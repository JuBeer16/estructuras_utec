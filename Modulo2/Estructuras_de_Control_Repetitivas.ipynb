{
  "nbformat": 4,
  "nbformat_minor": 0,
  "metadata": {
    "colab": {
      "provenance": [],
      "include_colab_link": true
    },
    "kernelspec": {
      "name": "python3",
      "display_name": "Python 3"
    },
    "language_info": {
      "name": "python"
    }
  },
  "cells": [
    {
      "cell_type": "markdown",
      "metadata": {
        "id": "view-in-github",
        "colab_type": "text"
      },
      "source": [
        "<a href=\"https://colab.research.google.com/github/JuBeer16/estructuras_utec/blob/main/Modulo2/Estructuras_de_Control_Repetitivas.ipynb\" target=\"_parent\"><img src=\"https://colab.research.google.com/assets/colab-badge.svg\" alt=\"Open In Colab\"/></a>"
      ]
    },
    {
      "cell_type": "markdown",
      "source": [
        "<img src=\"https://www.ctic.uni.edu.pe/wp-content/uploads/2022/04/588px-x-348px-web-1.png\" alt=\"HTML5 Icon\" width=\"900\" height=\"350\" >\n"
      ],
      "metadata": {
        "id": "Mhpi9rexZdTl"
      }
    },
    {
      "cell_type": "markdown",
      "source": [
        "# **Estructuras de Control Repetitivas**"
      ],
      "metadata": {
        "id": "YFMF2RW9D495"
      }
    },
    {
      "cell_type": "markdown",
      "source": [
        "---\n",
        "\n",
        "**Introducción**\n",
        "\n",
        "Las estructuras de control repetitivas, comúnmente conocidas como *bucles*, permiten ejecutar un bloque de código múltiples veces. Son esenciales para automatizar tareas repetitivas y manejar colecciones de datos. En Python, las estructuras de control repetitivas principales son while y for.\n",
        "\n",
        "Este laboratorio te guiará a través de las estructuras de control repetitivas en Python con explicaciones detalladas, ejemplos y ejercicios prácticos para reforzar tu aprendizaje."
      ],
      "metadata": {
        "id": "oh6gXsC9EHTv"
      }
    },
    {
      "cell_type": "markdown",
      "source": [
        "**Contenido**\n",
        "\n",
        "- 1. Sentencia while\n",
        "- 2. Sentencia for\n",
        "- 3. Iterando sobre colecciones\n",
        "- 4. Declaraciones break y continue\n",
        "- 5. Bucles anidados\n"
      ],
      "metadata": {
        "id": "X7qx0IkrEWXK"
      }
    },
    {
      "cell_type": "markdown",
      "source": [
        "## 1. Sentencia while\n"
      ],
      "metadata": {
        "id": "IRd4RsIYE2AC"
      }
    },
    {
      "cell_type": "markdown",
      "source": [
        "**Sintaxis**\n",
        "\n",
        "El bucle while ejecuta un bloque de código mientras una condición sea verdadera."
      ],
      "metadata": {
        "id": "EgtO9UAlE61s"
      }
    },
    {
      "cell_type": "code",
      "execution_count": null,
      "metadata": {
        "id": "oJYtkClHD4Rp"
      },
      "outputs": [],
      "source": [
        "while condition:\n",
        "    # Bloque de código a ejecutar repetidamente\n"
      ]
    },
    {
      "cell_type": "markdown",
      "source": [
        "**Ejemplo 1:** Contar de 1 a 5"
      ],
      "metadata": {
        "id": "ONDzwszQFLB3"
      }
    },
    {
      "cell_type": "code",
      "source": [
        "contador = 1\n",
        "\n",
        "while contador <= 5:\n",
        "    print(contador)\n",
        "    contador += 1 #permite hacer saltar una vez"
      ],
      "metadata": {
        "id": "lrVZrCTLFJml",
        "outputId": "28a95a36-4752-47f6-be48-2dd0db9231ba",
        "colab": {
          "base_uri": "https://localhost:8080/"
        }
      },
      "execution_count": 7,
      "outputs": [
        {
          "output_type": "stream",
          "name": "stdout",
          "text": [
            "1\n",
            "2\n",
            "3\n",
            "4\n",
            "5\n"
          ]
        }
      ]
    },
    {
      "cell_type": "markdown",
      "source": [
        "**Ejemplo 2:** Solicitar al usuario una contraseña"
      ],
      "metadata": {
        "id": "Zny7nfmHGJqB"
      }
    },
    {
      "cell_type": "code",
      "source": [
        "contraseña = '' # empieza con un valor vacio\"\n",
        "\n",
        "while contraseña != 'secreto': #minetras el valor de la contrasela sea difrerente de secrero\n",
        "    contraseña = input('Introduce la contraseña: ')\n",
        "print('¡Contraseña correcta!') #detiene el bucle porque cumplio la condicion\n"
      ],
      "metadata": {
        "id": "3c2nrwndHg55",
        "outputId": "582d14e6-df32-40fe-8ff6-cf2a9a292dd3",
        "colab": {
          "base_uri": "https://localhost:8080/"
        }
      },
      "execution_count": 8,
      "outputs": [
        {
          "output_type": "stream",
          "name": "stdout",
          "text": [
            "Introduce la contraseña: erer\n",
            "Introduce la contraseña: erer\n",
            "Introduce la contraseña: secreto\n",
            "¡Contraseña correcta!\n"
          ]
        }
      ]
    },
    {
      "cell_type": "markdown",
      "source": [
        "**Ejemplo 3:** Solicitar al usuario una contraseña y que la cuenta se bloquee tras superar los tres intentos"
      ],
      "metadata": {
        "id": "wr0g95I0Hk_a"
      }
    },
    {
      "cell_type": "code",
      "source": [
        "contraseña = '' #valor nulo al inicio\n",
        "contador = 123 #contador en 0\n",
        "\n",
        "while contraseña != 'secreto': #mientras la contraseña sea distinta a secreto\n",
        "    if contador <= 3:\n",
        "        contraseña = input('Introduce la contraseña: ')\n",
        "        contador += 1\n",
        "    else:\n",
        "        print('cuenta bloqueada!')\n",
        "        break  #para detener el blucle\n",
        "\n",
        "if contador <= 4:\n",
        "    print('¡Contraseña correcta!')\n"
      ],
      "metadata": {
        "id": "kcMZzz2iGSHV",
        "outputId": "43d0f967-6269-4130-c77d-7efa1f644072",
        "colab": {
          "base_uri": "https://localhost:8080/"
        }
      },
      "execution_count": 26,
      "outputs": [
        {
          "output_type": "stream",
          "name": "stdout",
          "text": [
            "Introduce la contraseña: 1\n",
            "Introduce la contraseña: \n",
            "Introduce la contraseña: 4\n",
            "cuenta bloqueada!\n",
            "¡Contraseña correcta!\n"
          ]
        }
      ]
    },
    {
      "cell_type": "code",
      "source": [
        "contador"
      ],
      "metadata": {
        "id": "I6g1mwo-2AJG",
        "outputId": "662ced7f-0b20-4557-88da-b16a5a3f90b3",
        "colab": {
          "base_uri": "https://localhost:8080/"
        }
      },
      "execution_count": 27,
      "outputs": [
        {
          "output_type": "execute_result",
          "data": {
            "text/plain": [
              "4"
            ]
          },
          "metadata": {},
          "execution_count": 27
        }
      ]
    },
    {
      "cell_type": "markdown",
      "source": [
        "**Ejercicios**"
      ],
      "metadata": {
        "id": "rwCut2iyGQpo"
      }
    },
    {
      "cell_type": "markdown",
      "source": [
        "Contador decreciente: Escribe un programa que cuente de 10 hacia 1 usando un bucle while."
      ],
      "metadata": {
        "id": "CX3w3V8xJe8c"
      }
    },
    {
      "cell_type": "code",
      "source": [
        "contador = 10\n",
        "\n",
        "while contador >= 1:\n",
        "    print(contador)\n",
        "    contador -= 1 #permite hacer saltar una vez"
      ],
      "metadata": {
        "id": "r_V8GaQOI2H3",
        "outputId": "243f4245-c012-43a1-970b-4b2c3bec7ed9",
        "colab": {
          "base_uri": "https://localhost:8080/"
        }
      },
      "execution_count": 14,
      "outputs": [
        {
          "output_type": "stream",
          "name": "stdout",
          "text": [
            "10\n",
            "9\n",
            "8\n",
            "7\n",
            "6\n",
            "5\n",
            "4\n",
            "3\n",
            "2\n",
            "1\n"
          ]
        }
      ]
    },
    {
      "cell_type": "code",
      "source": [],
      "metadata": {
        "id": "B_Nrm4CP8yHb"
      },
      "execution_count": null,
      "outputs": []
    },
    {
      "cell_type": "markdown",
      "source": [
        "Suma de números: Solicita al usuario números enteros y acumula la suma hasta que el usuario ingrese 0. Luego muestra la suma total."
      ],
      "metadata": {
        "id": "fncRlKXgJitG"
      }
    },
    {
      "cell_type": "code",
      "source": [
        "contador = 1\n",
        "suma = 0\n",
        "while contador !=0:\n",
        "  contador = int(input(\"ingresa el numero: \"))\n",
        "  print(contador)\n",
        "  suma += contador\n",
        "print(suma)"
      ],
      "metadata": {
        "id": "e0BXlSAsJpGW",
        "outputId": "a1e016c0-db21-431d-a4f3-06da48e698b8",
        "colab": {
          "base_uri": "https://localhost:8080/"
        }
      },
      "execution_count": 31,
      "outputs": [
        {
          "output_type": "stream",
          "name": "stdout",
          "text": [
            "ingresa el numero: 1\n",
            "1\n",
            "ingresa el numero: 2\n",
            "2\n",
            "ingresa el numero: 0\n",
            "0\n",
            "3\n"
          ]
        }
      ]
    },
    {
      "cell_type": "code",
      "source": [
        "contador"
      ],
      "metadata": {
        "id": "8V9eJQjG_u--",
        "outputId": "211af567-4e8a-427b-f667-8672249bb129",
        "colab": {
          "base_uri": "https://localhost:8080/"
        }
      },
      "execution_count": 33,
      "outputs": [
        {
          "output_type": "execute_result",
          "data": {
            "text/plain": [
              "0"
            ]
          },
          "metadata": {},
          "execution_count": 33
        }
      ]
    },
    {
      "cell_type": "markdown",
      "source": [
        "Adivinar el número: Genera un número aleatorio entre 1 y 100. El usuario debe adivinar el número, y el programa debe indicar si el número ingresado es mayor o menor que el número secreto. El bucle termina cuando el usuario acierta.\n"
      ],
      "metadata": {
        "id": "wZjHXxr5JlSp"
      }
    },
    {
      "cell_type": "code",
      "source": [],
      "metadata": {
        "id": "GDOB2-oBJowQ"
      },
      "execution_count": null,
      "outputs": []
    },
    {
      "cell_type": "markdown",
      "source": [
        "\n",
        "Número par: Solicita al usuario que ingrese un número par. Si el usuario ingresa un número impar, debe volver a solicitar el número hasta que ingrese un número par."
      ],
      "metadata": {
        "id": "pxQ-90lkJnE8"
      }
    },
    {
      "cell_type": "code",
      "source": [],
      "metadata": {
        "id": "dmJCXUOQJn__"
      },
      "execution_count": null,
      "outputs": []
    },
    {
      "cell_type": "markdown",
      "source": [
        "\n",
        "\n",
        "\n",
        "\n",
        "Factorial con while: Calcula el factorial de un número ingresado por el usuario utilizando un bucle while."
      ],
      "metadata": {
        "id": "otUb4NT2JdA2"
      }
    },
    {
      "cell_type": "code",
      "source": [],
      "metadata": {
        "id": "Ss5egYmdJnn0"
      },
      "execution_count": null,
      "outputs": []
    },
    {
      "cell_type": "markdown",
      "source": [
        "## 2. Sentencias for"
      ],
      "metadata": {
        "id": "CaXL4I22J2ee"
      }
    },
    {
      "cell_type": "markdown",
      "source": [
        "**Sintaxis**\n",
        "\n",
        "El bucle for itera sobre una secuencia (como una lista, tupla, cadena o rango de números)."
      ],
      "metadata": {
        "id": "XZdKohcGJ7_R"
      }
    },
    {
      "cell_type": "code",
      "source": [
        "for elemento in secuencia:\n",
        "    # Bloque de código a ejecutar por cada elemento\n"
      ],
      "metadata": {
        "id": "fJozmBCYKBOi"
      },
      "execution_count": null,
      "outputs": []
    },
    {
      "cell_type": "markdown",
      "source": [
        "Ejemplo con lista:"
      ],
      "metadata": {
        "id": "2bleRpoCMpQ7"
      }
    },
    {
      "cell_type": "code",
      "source": [
        "frutas = ['manzana', 'banana', 'cereza', 2]\n",
        "\n",
        "for x in frutas:\n",
        "    print(x)\n"
      ],
      "metadata": {
        "id": "b_51Ng0_MsTb",
        "outputId": "73914673-368a-4475-b74e-eb1a64912cc3",
        "colab": {
          "base_uri": "https://localhost:8080/"
        }
      },
      "execution_count": 42,
      "outputs": [
        {
          "output_type": "stream",
          "name": "stdout",
          "text": [
            "manzana\n",
            "banana\n",
            "cereza\n",
            "2\n"
          ]
        }
      ]
    },
    {
      "cell_type": "code",
      "source": [
        "x"
      ],
      "metadata": {
        "id": "fw-KE2cxGd7l",
        "outputId": "4ebceedb-4253-420f-d7f3-5ae65d651913",
        "colab": {
          "base_uri": "https://localhost:8080/"
        }
      },
      "execution_count": 43,
      "outputs": [
        {
          "output_type": "execute_result",
          "data": {
            "text/plain": [
              "2"
            ]
          },
          "metadata": {},
          "execution_count": 43
        }
      ]
    },
    {
      "cell_type": "code",
      "source": [
        "my_list = ['hola', 1, 'python']\n",
        "type(my_list)"
      ],
      "metadata": {
        "id": "1vIYeeCbOChm",
        "outputId": "ddf0b2a1-1d79-4e85-8399-f80f30282394",
        "colab": {
          "base_uri": "https://localhost:8080/"
        }
      },
      "execution_count": 47,
      "outputs": [
        {
          "output_type": "execute_result",
          "data": {
            "text/plain": [
              "list"
            ]
          },
          "metadata": {},
          "execution_count": 47
        }
      ]
    },
    {
      "cell_type": "markdown",
      "source": [
        "Ejemplo con cadena:\n",
        "\n"
      ],
      "metadata": {
        "id": "Ltn9YYtkN8W4"
      }
    },
    {
      "cell_type": "code",
      "source": [
        "palabra = 'PytHon'\n",
        "\n",
        "for letra in palabra:\n",
        "    print(letra)\n"
      ],
      "metadata": {
        "id": "-_Kju3etN96C",
        "outputId": "f66baa59-4d1a-4b75-80b8-2c1377d323f8",
        "colab": {
          "base_uri": "https://localhost:8080/"
        }
      },
      "execution_count": 48,
      "outputs": [
        {
          "output_type": "stream",
          "name": "stdout",
          "text": [
            "P\n",
            "y\n",
            "t\n",
            "H\n",
            "o\n",
            "n\n"
          ]
        }
      ]
    },
    {
      "cell_type": "code",
      "source": [
        "# my_list = [1, 2, 3, 4, 5, 6, 7 , ............., 1000]"
      ],
      "metadata": {
        "id": "fwgy4gYLOtUX"
      },
      "execution_count": null,
      "outputs": []
    },
    {
      "cell_type": "markdown",
      "source": [
        "**La función range()**\n",
        "\n",
        "range() genera una secuencia de números.\n",
        "\n"
      ],
      "metadata": {
        "id": "X9Zuid7iOqtx"
      }
    },
    {
      "cell_type": "markdown",
      "source": [
        "range(n) genera números de 0 a n-1.\n"
      ],
      "metadata": {
        "id": "w2km5V_gO7_A"
      }
    },
    {
      "cell_type": "code",
      "source": [
        "for x in range(11):\n",
        "  print(x)"
      ],
      "metadata": {
        "id": "owZzmkw4OqMU",
        "outputId": "8e606e6c-1ebd-4de0-eeb3-c54deec8d673",
        "colab": {
          "base_uri": "https://localhost:8080/"
        }
      },
      "execution_count": 49,
      "outputs": [
        {
          "output_type": "stream",
          "name": "stdout",
          "text": [
            "0\n",
            "1\n",
            "2\n",
            "3\n",
            "4\n",
            "5\n",
            "6\n",
            "7\n",
            "8\n",
            "9\n",
            "10\n"
          ]
        }
      ]
    },
    {
      "cell_type": "code",
      "source": [
        "type(x)"
      ],
      "metadata": {
        "id": "1ozmJFjrJThf",
        "outputId": "cfe62892-1b51-42d8-c8f7-c2157fdd12da",
        "colab": {
          "base_uri": "https://localhost:8080/"
        }
      },
      "execution_count": 50,
      "outputs": [
        {
          "output_type": "execute_result",
          "data": {
            "text/plain": [
              "int"
            ]
          },
          "metadata": {},
          "execution_count": 50
        }
      ]
    },
    {
      "cell_type": "markdown",
      "source": [
        "range(inicio, fin) genera números desde inicio hasta fin-1.\n"
      ],
      "metadata": {
        "id": "EDKmBGxDO94n"
      }
    },
    {
      "cell_type": "code",
      "source": [
        "for x in range(-10 , -2): #hace un barrido de iquierda a derecha\n",
        "  print(x)"
      ],
      "metadata": {
        "id": "eMzXfuRmPpbT"
      },
      "execution_count": null,
      "outputs": []
    },
    {
      "cell_type": "markdown",
      "source": [
        "range(inicio, fin, paso) permite especificar el incremento."
      ],
      "metadata": {
        "id": "6MB9QD7tPnzu"
      }
    },
    {
      "cell_type": "code",
      "source": [
        "for x in range(10, 31, 8): #el tercer valor es el salto de 8 en 8\n",
        "  print(x)"
      ],
      "metadata": {
        "id": "1OOlOftOP-59",
        "outputId": "f626e13c-c8ee-4d37-b973-b36324ad5e27",
        "colab": {
          "base_uri": "https://localhost:8080/"
        }
      },
      "execution_count": 59,
      "outputs": [
        {
          "output_type": "stream",
          "name": "stdout",
          "text": [
            "10\n",
            "18\n",
            "26\n"
          ]
        }
      ]
    },
    {
      "cell_type": "markdown",
      "source": [
        "**Ejercicio**\n",
        "\n",
        "Imprima los múltiplos de 17 menores que 90"
      ],
      "metadata": {
        "id": "bM4PYrj1QTSu"
      }
    },
    {
      "cell_type": "code",
      "source": [
        "for x in range(17 , 85 , 17): #hace un barrido de iquierda a derecha\n",
        "\n",
        "  print(x)"
      ],
      "metadata": {
        "id": "Y7zV_O5uQeOb",
        "outputId": "87feba27-db1d-46ec-fa96-99085ea0a0ab",
        "colab": {
          "base_uri": "https://localhost:8080/"
        }
      },
      "execution_count": 62,
      "outputs": [
        {
          "output_type": "stream",
          "name": "stdout",
          "text": [
            "17\n",
            "34\n",
            "51\n",
            "68\n"
          ]
        }
      ]
    },
    {
      "cell_type": "markdown",
      "source": [
        "**Ejemplo 1:** Tabla de multiplicar del 5\n",
        "\n"
      ],
      "metadata": {
        "id": "ueVyfmWRRMhS"
      }
    },
    {
      "cell_type": "code",
      "source": [
        "for i in range(1, 11):\n",
        "    print(f'5 x {i} = {5 * i}')\n"
      ],
      "metadata": {
        "id": "YBklfoKqROhD"
      },
      "execution_count": null,
      "outputs": []
    },
    {
      "cell_type": "markdown",
      "source": [
        "**Ejercicios**\n"
      ],
      "metadata": {
        "id": "moqmgv0JRtrn"
      }
    },
    {
      "cell_type": "markdown",
      "source": [
        "Números pares: Utiliza un bucle for y range() para imprimir todos los números pares entre 2 y 20.\n"
      ],
      "metadata": {
        "id": "AVb0eD_0RxMj"
      }
    },
    {
      "cell_type": "code",
      "source": [
        "for x in range(2 , 21 , 2):\n",
        "  print(x)"
      ],
      "metadata": {
        "id": "2NjC7giqR5rB",
        "outputId": "f356e674-0078-427e-be98-021162e01d22",
        "colab": {
          "base_uri": "https://localhost:8080/"
        }
      },
      "execution_count": 66,
      "outputs": [
        {
          "output_type": "stream",
          "name": "stdout",
          "text": [
            "2\n",
            "4\n",
            "6\n",
            "8\n",
            "10\n",
            "12\n",
            "14\n",
            "16\n",
            "18\n",
            "20\n"
          ]
        }
      ]
    },
    {
      "cell_type": "markdown",
      "source": [
        "\n",
        "Sumar números en una lista: Dada una lista de números [3, 5, 2, 8, 1], calcula la suma total de los números usando un bucle for.\n"
      ],
      "metadata": {
        "id": "oL1cJT9ARyqk"
      }
    },
    {
      "cell_type": "code",
      "source": [
        "lista_1=  [3, 5, 2, 8, 1]\n",
        "sum = 0\n",
        "\n",
        "for x in lista_1:\n",
        " sum += x\n",
        "print (\"la suma es: \", sum)\n",
        "\n"
      ],
      "metadata": {
        "id": "QgUOl9o4R5-X",
        "outputId": "417f961b-00ec-4372-d7b3-2cdc27633ebf",
        "colab": {
          "base_uri": "https://localhost:8080/"
        }
      },
      "execution_count": 78,
      "outputs": [
        {
          "output_type": "stream",
          "name": "stdout",
          "text": [
            "la suma es:  19\n"
          ]
        }
      ]
    },
    {
      "cell_type": "markdown",
      "source": [
        "\n",
        "Contar vocales: Escribe un programa que cuente el número de vocales en una cadena ingresada por el usuario.\n"
      ],
      "metadata": {
        "id": "emCbOVVuRz58"
      }
    },
    {
      "cell_type": "code",
      "source": [
        "palabra= input(\"ingrese la palabra: \")\n",
        "voc = 0\n",
        "for x in palabra:\n",
        "  if x in \"aeiouAEIOU\":\n",
        "   voc += 1\n",
        "print(voc)"
      ],
      "metadata": {
        "id": "nFRZHz13R6O0",
        "outputId": "a1ac4424-9960-4133-8f78-741d60f0bc5a",
        "colab": {
          "base_uri": "https://localhost:8080/"
        }
      },
      "execution_count": 83,
      "outputs": [
        {
          "output_type": "stream",
          "name": "stdout",
          "text": [
            "ingrese la palabra: mecatronico\n",
            "5\n"
          ]
        }
      ]
    },
    {
      "cell_type": "code",
      "source": [
        "palabra= input(\"ingrese la palabra: \")\n",
        "voc = 0 #  contador\n",
        "lista_2=['a','e','i','o','u']\n",
        "\n",
        "for x in palabra:\n",
        "  if x in lista_2:\n",
        "   voc += 1\n",
        "print(voc)"
      ],
      "metadata": {
        "id": "SbFO4m6pTP8x",
        "outputId": "22130649-3340-45ac-b59a-7eedf404f52e",
        "colab": {
          "base_uri": "https://localhost:8080/"
        }
      },
      "execution_count": 84,
      "outputs": [
        {
          "output_type": "stream",
          "name": "stdout",
          "text": [
            "ingrese la palabra: mecatronico\n",
            "5\n"
          ]
        }
      ]
    },
    {
      "cell_type": "markdown",
      "source": [
        "\n",
        "Tabla de multiplicar: Pide al usuario un número y genera su tabla de multiplicar del 1 al 10.\n"
      ],
      "metadata": {
        "id": "n4hug2yzR1JT"
      }
    },
    {
      "cell_type": "code",
      "source": [],
      "metadata": {
        "id": "Upm6bcxqR6na"
      },
      "execution_count": null,
      "outputs": []
    },
    {
      "cell_type": "markdown",
      "source": [
        "\n",
        "Lista al revés: Dada una lista [1, 2, 3, 4, 5], utiliza un bucle for para imprimir los elementos en orden inverso.\n"
      ],
      "metadata": {
        "id": "kudWtM74R2dL"
      }
    },
    {
      "cell_type": "code",
      "source": [],
      "metadata": {
        "id": "0mLLKiv4R7VK"
      },
      "execution_count": null,
      "outputs": []
    },
    {
      "cell_type": "markdown",
      "source": [
        "\n",
        "Filtrar números: Dada una lista de números, crea una nueva lista que contenga solo los números mayores a 5.\n",
        "\n"
      ],
      "metadata": {
        "id": "_Pbnij8MR35V"
      }
    },
    {
      "cell_type": "code",
      "source": [],
      "metadata": {
        "id": "sAc382R9R7ur"
      },
      "execution_count": null,
      "outputs": []
    },
    {
      "cell_type": "markdown",
      "source": [
        "Sumar dígitos de un número: Solicita al usuario un número entero y utiliza un bucle for para sumar todos sus dígitos."
      ],
      "metadata": {
        "id": "0KHiYWSVR5KK"
      }
    },
    {
      "cell_type": "code",
      "source": [],
      "metadata": {
        "id": "w816rgLoR8Co"
      },
      "execution_count": null,
      "outputs": []
    },
    {
      "cell_type": "markdown",
      "source": [
        "## 3. Declaraciones break y continue\n"
      ],
      "metadata": {
        "id": "CxqJMsCeVIF8"
      }
    },
    {
      "cell_type": "markdown",
      "source": [
        "**Uso de break**\n",
        "\n",
        "La declaración break termina el bucle inmediatamente."
      ],
      "metadata": {
        "id": "p5fArQDNVKl-"
      }
    },
    {
      "cell_type": "markdown",
      "source": [
        "Ejemplo"
      ],
      "metadata": {
        "id": "MIFX9u9RVPGz"
      }
    },
    {
      "cell_type": "code",
      "source": [
        "for i in range(1, 10):\n",
        "    if i == 5:\n",
        "        break\n",
        "    print(i)\n"
      ],
      "metadata": {
        "id": "G6tQ6Fv5VQef"
      },
      "execution_count": null,
      "outputs": []
    },
    {
      "cell_type": "markdown",
      "source": [
        "**Uso de continue**\n",
        "\n",
        "La declaración continue salta a la siguiente iteración del bucle."
      ],
      "metadata": {
        "id": "nlbsFmOXVYvR"
      }
    },
    {
      "cell_type": "code",
      "source": [
        "for i in range(1, 6):\n",
        "    if i == 3:\n",
        "        continue\n",
        "    print(i)\n"
      ],
      "metadata": {
        "id": "lJGO_f3RVesa"
      },
      "execution_count": null,
      "outputs": []
    },
    {
      "cell_type": "markdown",
      "source": [
        "**Ejemplos**\n",
        "\n",
        "Ejemplo 1: Encontrar un número en una lista"
      ],
      "metadata": {
        "id": "ftp9vqjzVrZg"
      }
    },
    {
      "cell_type": "code",
      "source": [
        "numeros = [1, 3, 5, 7, 9]\n",
        "buscado = 5\n",
        "\n",
        "for num in numeros:\n",
        "    if num == buscado:\n",
        "        print(f'Número {buscado} encontrado.')\n",
        "        break\n"
      ],
      "metadata": {
        "id": "tg-3ibLhVuhm"
      },
      "execution_count": null,
      "outputs": []
    },
    {
      "cell_type": "markdown",
      "source": [
        "Ejemplo 2: Saltar números impares\n",
        "\n"
      ],
      "metadata": {
        "id": "HXYfJ3-3V1kF"
      }
    },
    {
      "cell_type": "code",
      "source": [
        "for i in range(1, 10):\n",
        "    if i % 2 != 0:\n",
        "        continue\n",
        "    print(i)\n"
      ],
      "metadata": {
        "id": "Zo57aQ13V3Sj"
      },
      "execution_count": null,
      "outputs": []
    },
    {
      "cell_type": "markdown",
      "source": [
        "**Ejercicios**\n",
        "\n"
      ],
      "metadata": {
        "id": "w4PfSKK6WA28"
      }
    },
    {
      "cell_type": "markdown",
      "source": [
        "\n",
        "Buscar en una lista: Dada una lista de nombres, pide al usuario un nombre y utiliza break para detener el bucle cuando el nombre sea encontrado. Indica si el nombre está en la lista.\n"
      ],
      "metadata": {
        "id": "gO03Nqs1WEV2"
      }
    },
    {
      "cell_type": "code",
      "source": [],
      "metadata": {
        "id": "k1HfRqgAWHdE"
      },
      "execution_count": null,
      "outputs": []
    },
    {
      "cell_type": "markdown",
      "source": [
        "\n",
        "Números divisibles: Imprime los números del 1 al 20, pero salta aquellos que sean divisibles por 3 usando continue.\n"
      ],
      "metadata": {
        "id": "y3A3iE6RWFj9"
      }
    },
    {
      "cell_type": "code",
      "source": [],
      "metadata": {
        "id": "A-uZzXkkWH1-"
      },
      "execution_count": null,
      "outputs": []
    },
    {
      "cell_type": "markdown",
      "source": [
        "\n",
        "Número primo: Escribe un programa que determine si un número dado es primo. Usa break para salir del bucle cuando encuentres un divisor.\n",
        "\n"
      ],
      "metadata": {
        "id": "rQs0zMdDWIg2"
      }
    },
    {
      "cell_type": "code",
      "source": [],
      "metadata": {
        "id": "90I9jw96WKIe"
      },
      "execution_count": null,
      "outputs": []
    },
    {
      "cell_type": "markdown",
      "source": [
        "\n",
        "Encuentra el primer múltiplo: Escribe un programa que encuentre el primer número entre 10 y 30 que sea divisible por 7. Utiliza break para salir del bucle una vez encontrado.\n",
        "\n"
      ],
      "metadata": {
        "id": "q0FOI94KWG5X"
      }
    },
    {
      "cell_type": "code",
      "source": [],
      "metadata": {
        "id": "wcrvyjm6WMXf"
      },
      "execution_count": null,
      "outputs": []
    },
    {
      "cell_type": "markdown",
      "source": [
        "Contar hasta N pero omitir números: Pide al usuario un número entero N y muestra todos los números del 1 al N, pero omite aquellos que terminen en 3. Utiliza continue."
      ],
      "metadata": {
        "id": "LKw0q4LVWMsc"
      }
    },
    {
      "cell_type": "code",
      "source": [],
      "metadata": {
        "id": "rUQQ8znaWNHl"
      },
      "execution_count": null,
      "outputs": []
    },
    {
      "cell_type": "markdown",
      "source": [
        "## 4. Bucles anidados\n",
        "\n",
        "Los bucles pueden anidarse, es decir, un bucle dentro de otro."
      ],
      "metadata": {
        "id": "lNScBmKsWVTA"
      }
    },
    {
      "cell_type": "markdown",
      "source": [
        "**Ejemplos**\n",
        "\n",
        "Ejemplo 1: Tabla de multiplicar del 1 al 3"
      ],
      "metadata": {
        "id": "kPfU7-CuWc8k"
      }
    },
    {
      "cell_type": "code",
      "source": [
        "for i in range(1, 4):\n",
        "    for j in range(1, 11):\n",
        "        print(f'{i} x {j} = {i * j}')\n",
        "    print('----------')\n"
      ],
      "metadata": {
        "id": "4fNxjjk_Whd0"
      },
      "execution_count": null,
      "outputs": []
    },
    {
      "cell_type": "markdown",
      "source": [
        "Ejemplo 2: Patrón de asteriscos\n",
        "\n"
      ],
      "metadata": {
        "id": "y6ZbaEueWuEI"
      }
    },
    {
      "cell_type": "code",
      "source": [
        "for i in range(1, 6):\n",
        "    for j in range(i):\n",
        "        print('*', end='')\n",
        "    print()\n"
      ],
      "metadata": {
        "id": "ZRpo66MWWvZk"
      },
      "execution_count": null,
      "outputs": []
    },
    {
      "cell_type": "markdown",
      "source": [
        "**Ejercicios**\n",
        "\n",
        "Cuadrado de números: Utiliza bucles anidados para imprimir un cuadrado de números de 1 a 5.\n",
        "\n",
        "Salida esperada:\n",
        "\n",
        "1 2 3 4 5\n",
        "\n",
        "1 2 3 4 5\n",
        "\n",
        "1 2 3 4 5\n",
        "\n",
        "1 2 3 4 5\n",
        "\n",
        "1 2 3 4 5"
      ],
      "metadata": {
        "id": "zOS88DaJXvJW"
      }
    },
    {
      "cell_type": "code",
      "source": [],
      "metadata": {
        "id": "NSEZaWCUX727"
      },
      "execution_count": null,
      "outputs": []
    },
    {
      "cell_type": "markdown",
      "source": [
        "Patrón de números: Crea el siguiente patrón usando bucles anidados:\n",
        "\n",
        "Salida esperada:\n",
        "\n",
        "1\n",
        "\n",
        "22\n",
        "\n",
        "333\n",
        "\n",
        "4444\n",
        "\n",
        "55555"
      ],
      "metadata": {
        "id": "4tGjT1GCX8OT"
      }
    },
    {
      "cell_type": "code",
      "source": [],
      "metadata": {
        "id": "uncuDxZlYCiE"
      },
      "execution_count": null,
      "outputs": []
    },
    {
      "cell_type": "markdown",
      "source": [
        "Números primos entre 2 y 20: Usa bucles anidados para encontrar e imprimir todos los números primos entre 2 y 20.\n",
        "\n"
      ],
      "metadata": {
        "id": "sDqIeyRIYC2J"
      }
    },
    {
      "cell_type": "code",
      "source": [],
      "metadata": {
        "id": "o-jztJ1RYG3N"
      },
      "execution_count": null,
      "outputs": []
    },
    {
      "cell_type": "markdown",
      "source": [
        "Tabla de multiplicar completa: Genera y muestra la tabla de multiplicar del 1 al 10 utilizando bucles anidados.\n"
      ],
      "metadata": {
        "id": "Twtz0I7HYHO3"
      }
    },
    {
      "cell_type": "code",
      "source": [],
      "metadata": {
        "id": "2AU-K2BHYIYt"
      },
      "execution_count": null,
      "outputs": []
    },
    {
      "cell_type": "markdown",
      "source": [
        "\n",
        "Patrón de alfabeto: Crea el siguiente patrón:\n",
        "\n",
        "A\n",
        "\n",
        "B B\n",
        "\n",
        "C C C\n",
        "\n",
        "D D D D\n",
        "\n",
        "E E E E E"
      ],
      "metadata": {
        "id": "jKPDFPh1YIzD"
      }
    },
    {
      "cell_type": "code",
      "source": [],
      "metadata": {
        "id": "QK3V-i4mYJPd"
      },
      "execution_count": null,
      "outputs": []
    },
    {
      "cell_type": "markdown",
      "source": [
        "## Ejercicios adicionales\n"
      ],
      "metadata": {
        "id": "ybnkgBlzYUeY"
      }
    },
    {
      "cell_type": "markdown",
      "source": [
        "\n",
        "Factorial de un número: Escribe un programa que calcule el factorial de un número ingresado por el usuario usando un bucle while o for.\n"
      ],
      "metadata": {
        "id": "YGWgFDzoYcGx"
      }
    },
    {
      "cell_type": "code",
      "source": [],
      "metadata": {
        "id": "5yj5yM_BYdkN"
      },
      "execution_count": null,
      "outputs": []
    },
    {
      "cell_type": "markdown",
      "source": [
        "\n",
        "Serie de Fibonacci: Genera la serie de Fibonacci hasta un número n ingresado por el usuario.\n"
      ],
      "metadata": {
        "id": "7JRZwHK6YeD1"
      }
    },
    {
      "cell_type": "code",
      "source": [],
      "metadata": {
        "id": "CA7v2DOwYfYl"
      },
      "execution_count": null,
      "outputs": []
    },
    {
      "cell_type": "markdown",
      "source": [
        "\n",
        "Invertir una cadena: Solicita al usuario una cadena y utiliza un bucle para invertirla.\n",
        "\n"
      ],
      "metadata": {
        "id": "vAT0DyQMYfz5"
      }
    },
    {
      "cell_type": "code",
      "source": [],
      "metadata": {
        "id": "60YU2EkLYhh7"
      },
      "execution_count": null,
      "outputs": []
    },
    {
      "cell_type": "markdown",
      "source": [
        "Contador de palabras: Pide al usuario que ingrese una frase y cuenta el número de palabras que contiene.\n"
      ],
      "metadata": {
        "id": "KgFkixC9Yh5P"
      }
    },
    {
      "cell_type": "code",
      "source": [],
      "metadata": {
        "id": "gwfxhij3YjIf"
      },
      "execution_count": null,
      "outputs": []
    },
    {
      "cell_type": "markdown",
      "source": [
        "\n",
        "Adivinar la palabra: Crea un juego en el que el programa tiene una lista de palabras y selecciona una al azar. El usuario debe adivinar la palabra letra por letra. Muestra los intentos y las letras descubiertas en cada intento.\n"
      ],
      "metadata": {
        "id": "WLqyimUEYjgk"
      }
    },
    {
      "cell_type": "code",
      "source": [],
      "metadata": {
        "id": "31aZPYwnYkwH"
      },
      "execution_count": null,
      "outputs": []
    },
    {
      "cell_type": "markdown",
      "source": [
        "\n",
        "Calculadora simple: Crea un programa que muestre un menú con opciones (suma, resta, multiplicación, división) y permita al usuario realizar operaciones hasta que decida salir.\n"
      ],
      "metadata": {
        "id": "9liKqK6dYlBn"
      }
    },
    {
      "cell_type": "code",
      "source": [],
      "metadata": {
        "id": "cgMKUBuDYmOE"
      },
      "execution_count": null,
      "outputs": []
    },
    {
      "cell_type": "markdown",
      "source": [
        "Contar letras y dígitos: Escribe un programa que tome una oración y calcule el número de letras y dígitos.\n",
        "\n"
      ],
      "metadata": {
        "id": "9tXeGQ7UYqrI"
      }
    },
    {
      "cell_type": "code",
      "source": [],
      "metadata": {
        "id": "EmsCNfhRY4i5"
      },
      "execution_count": null,
      "outputs": []
    },
    {
      "cell_type": "markdown",
      "source": [
        "Sumar números pares e impares: Pide al usuario que ingrese números enteros (el ingreso termina con 0) y calcula la suma de los números pares y la suma de los impares por separado.\n"
      ],
      "metadata": {
        "id": "ZlR9FWOtY44y"
      }
    },
    {
      "cell_type": "code",
      "source": [],
      "metadata": {
        "id": "8Cvo6GXbY6GY"
      },
      "execution_count": null,
      "outputs": []
    },
    {
      "cell_type": "markdown",
      "source": [
        "\n",
        "Juego de adivinanzas mejorado: El programa genera un número aleatorio entre 1 y 100. El usuario tiene 10 intentos para adivinarlo. Después de cada intento, el programa indica si el número es mayor o menor y muestra cuántos intentos quedan."
      ],
      "metadata": {
        "id": "I7BC5R_BY6fW"
      }
    },
    {
      "cell_type": "code",
      "source": [],
      "metadata": {
        "id": "tszZDbjWY6-A"
      },
      "execution_count": null,
      "outputs": []
    },
    {
      "cell_type": "markdown",
      "source": [
        "---\n",
        "\n",
        "# Conclusión\n",
        "\n",
        "Las estructuras de control repetitivas son fundamentales en la programación, ya que permiten automatizar y simplificar tareas repetitivas. Dominar los bucles while y for, así como las declaraciones break y continue, es esencial para escribir código eficiente y efectivo en Python.\n",
        "\n",
        "\n",
        "---"
      ],
      "metadata": {
        "id": "VpeMBBQwY-bf"
      }
    },
    {
      "cell_type": "markdown",
      "source": [
        "---\n",
        "\n",
        "# Gracias por completar este laboratorio!\n",
        "\n",
        "---\n"
      ],
      "metadata": {
        "id": "BSaOFLOkZWgr"
      }
    }
  ]
}